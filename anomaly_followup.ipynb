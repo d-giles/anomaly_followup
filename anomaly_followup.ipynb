{
 "cells": [
  {
   "cell_type": "code",
   "execution_count": null,
   "metadata": {
    "id": "xg2lGfsJ0Y2j"
   },
   "outputs": [],
   "source": [
    "import numpy as np\n",
    "import pandas as pd\n",
    "import matplotlib.pyplot as plt\n",
    "%load_ext autoreload\n",
    "%autoreload 2"
   ]
  },
  {
   "cell_type": "markdown",
   "metadata": {
    "id": "BOyf-cDbnUb7"
   },
   "source": [
    "# Light Curves with Different Pipelines"
   ]
  },
  {
   "cell_type": "markdown",
   "metadata": {
    "id": "bsZ7NSKY8jNc"
   },
   "source": [
    "Sadly, we expect *most* of the weirdest behavior to be artifacts either from systematic effects, or from data processing.\n",
    "\n",
    "The bulk produced light curves we used to find all the anomalies were produced with an `eleanor` pipeline. Every pipeline is optimized for discovering different phenomena and can affect light curve production differently, so our first step is to recreate the interesting light curve, and see if we can eliminate as many systematic explanations as possible, or else discover the issue."
   ]
  },
  {
   "cell_type": "markdown",
   "metadata": {
    "id": "ORPSf2DonNhc"
   },
   "source": [
    "## Lightkurve"
   ]
  },
  {
   "cell_type": "code",
   "execution_count": null,
   "metadata": {
    "id": "J5dsRJOAnNhm"
   },
   "outputs": [],
   "source": [
    "import lightkurve\n",
    "import eleanor\n",
    "from lightkurve.correctors import DesignMatrix, RegressionCorrector, PLDCorrector\n",
   ]
  },
  {
   "cell_type": "code",
   "execution_count": null,
   "metadata": {
    "colab": {
     "base_uri": "https://localhost:8080/"
    },
    "id": "_afNeQwtnNhn",
    "outputId": "f67cde41-858c-48ad-a31f-fba45ae69140"
   },
   "outputs": [],
   "source": [
    "tic = 77474435\n",
    "sector = 5\n",
    "i=0\n",
    "while i<10:\n",
    "    try:\n",
    "        print('trying')\n",
    "        tpf = lightkurve.search_tesscut(f'TIC {tic}',sector=sector).download_all(cutout_size=(15,15))\n",
    "        print('success')\n",
    "        tpf=tpf[0]\n",
    "        break\n",
    "    except Exception as e:\n",
    "        print(f'error: {e}')\n",
    "        i+=1\n"
   ]
  },
  {
   "cell_type": "markdown",
   "metadata": {
    "id": "b1qJQ6UgnNho"
   },
   "source": [
    "Many of the sources may have bad defaults or no predefined mask, you'll probably have to create a custom aperture mask. See `lightkurve` Section 3 [here](https://docs.lightkurve.org/tutorials/2-creating-light-curves/2-1-custom-aperture-photometry.html) for guidance."
   ]
  },
  {
   "cell_type": "code",
   "execution_count": null,
   "metadata": {
    "colab": {
     "base_uri": "https://localhost:8080/",
     "height": 439
    },
    "id": "cGVjCsIKnNho",
    "outputId": "1ce464ab-e4dd-42dd-ac56-3433d6d3aaba"
   },
   "outputs": [],
   "source": [
    "custom_mask = tpf[0].create_threshold_mask(threshold=15)\n",
    "tpf.plot(aperture_mask=custom_mask)"
   ]
  },
  {
   "cell_type": "code",
   "execution_count": null,
   "metadata": {
    "colab": {
     "base_uri": "https://localhost:8080/",
     "height": 319
    },
    "id": "eAlPKh7EnNhp",
    "outputId": "7003fb41-28ea-4fe6-dc18-c8ac87b5d6db"
   },
   "outputs": [],
   "source": [
    "lc = tpf.to_lightcurve(aperture_mask=custom_mask)\n",
    "lc.plot();"
   ]
  },
  {
   "cell_type": "markdown",
   "metadata": {
    "id": "HtDSxk-vnNhp"
   },
   "source": [
    "This is raw flux without any correction, let's try different background subtractions to see if our mystery signal resolves itself."
   ]
  },
  {
   "cell_type": "markdown",
   "metadata": {
    "id": "hroJXbEym2qO"
   },
   "source": [
    "### Simple Background Subtraction"
   ]
  },
  {
   "cell_type": "code",
   "execution_count": null,
   "metadata": {
    "colab": {
     "base_uri": "https://localhost:8080/"
    },
    "id": "7BdRoiZOnNhq",
    "outputId": "19785a80-bd32-4229-e6a8-b05838d49a0f"
   },
   "outputs": [],
   "source": [
    "regressors = tpf.flux[:, ~custom_mask]\n",
    "regressors.shape"
   ]
  },
  {
   "cell_type": "code",
   "execution_count": null,
   "metadata": {
    "id": "cVku0wJam2qP"
   },
   "outputs": [],
   "source": [
    "bkg = np.median(regressors, axis=1)\n",
    "bkg -= np.percentile(bkg, 5)\n",
    "\n",
    "npix = custom_mask.sum()\n",
    "median_subtracted_lc = lc - npix * bkg"
   ]
  },
  {
   "cell_type": "code",
   "execution_count": null,
   "metadata": {
    "colab": {
     "base_uri": "https://localhost:8080/",
     "height": 400
    },
    "id": "0bSuitU7m2qP",
    "outputId": "83ecc05d-9595-4e3c-b006-0e77f5a72675"
   },
   "outputs": [],
   "source": [
    "fig, ax = plt.subplots(1, figsize=(17,10))\n",
    "#lc.plot(ax=ax)\n",
    "median_subtracted_lc.plot(ax=ax, normalize=True, label=\"Median Subtracted\")\n",
    "median_subtracted_lc.flatten().plot(ax=ax, normalize=True, label=\"+Flattened\")\n",
    "\n",
    "#ax.plot(lc.time.value, bkg)\n"
   ]
  },
  {
   "cell_type": "markdown",
   "metadata": {
    "id": "o7M8i7mbnNhr"
   },
   "source": [
    "### [Linear Regression](https://docs.lightkurve.org/tutorials/2-creating-light-curves/2-3-removing-scattered-light-using-regressioncorrector.html)"
   ]
  },
  {
   "cell_type": "markdown",
   "metadata": {
    "id": "yB0oPlp0m2qR"
   },
   "source": [
    "It may be necessary to remove scattered light. Scattered light is recognizable in TESS FFI light curves as a brightening trend in both halves of each light curve. The median background subtraction used above may account for this well enough, but if not try a linear regression or the pixel level decorrelation (PLD) corrector. If this removes the signal of interest, examine the pixel level information and discard the corrections if your signal is in fact localized (not present everywhere)."
   ]
  },
  {
   "cell_type": "code",
   "execution_count": null,
   "metadata": {
    "id": "tVaamtDGnNhr"
   },
   "outputs": [],
   "source": [
    "# Make an aperture mask and an uncorrected light curve\n",
    "uncorrected_lc = tpf.to_lightcurve(aperture_mask=custom_mask)\n",
    "\n",
    "# Make a design matrix and pass it to a linear regression corrector\n",
    "dm = DesignMatrix(tpf.flux[:, ~custom_mask], name='regressors').pca(5).append_constant()\n",
    "rc = RegressionCorrector(uncorrected_lc)\n",
    "corrected_ffi_lc = rc.correct(dm)\n",
    "\n",
    "# Optional: Remove the scattered light, allowing for the large offset from scattered light\n",
    "corrected_ffi_lc = uncorrected_lc - rc.model_lc + np.percentile(rc.model_lc.flux, 5)\n",
    "corrected_ffi_lc.plot()"
   ]
  },
  {
   "cell_type": "code",
   "execution_count": null,
   "metadata": {
    "id": "GykeNzMpm2qS"
   },
   "outputs": [],
   "source": [
    "pld = PLDCorrector(tpf, aperture_mask=custom_mask)\n",
    "pld_corrected_lc = pld.correct(restore_trend=False, pca_components=5)\n",
    "pld.diagnose();"
   ]
  },
  {
   "cell_type": "code",
   "execution_count": null,
   "metadata": {
    "colab": {
     "base_uri": "https://localhost:8080/",
     "height": 375
    },
    "id": "lJzxMrcznNhr",
    "outputId": "d2f8655f-f054-4bb8-91d3-1a8916497b1b"
   },
   "outputs": [],
   "source": [
    "pld.diagnose_masks();"
   ]
  },
  {
   "cell_type": "markdown",
   "metadata": {
    "id": "RGq5vwl_p_p9"
   },
   "source": [
    "## eleanor"
   ]
  },
  {
   "cell_type": "code",
   "execution_count": null,
   "metadata": {
    "colab": {
     "base_uri": "https://localhost:8080/"
    },
    "id": "6mE-GtDZnjnT",
    "outputId": "752391be-680d-449b-84c2-e0baa6ba6fa1"
   },
   "outputs": [],
   "source": [
    "star = eleanor.Source(tic=tic, sector=sector)"
   ]
  },
  {
   "cell_type": "code",
   "execution_count": null,
   "metadata": {
    "colab": {
     "base_uri": "https://localhost:8080/"
    },
    "id": "sEei46OEnjnT",
    "outputId": "6f35fe39-8073-4c30-b94f-70221801aa9e"
   },
   "outputs": [],
   "source": [
    "data = eleanor.TargetData(star, height=15, width=15, bkg_size=31, do_psf=True, do_pca=True, regressors='corner')"
   ]
  },
  {
   "cell_type": "markdown",
   "metadata": {
    "id": "9pTMy4y8njnU"
   },
   "source": [
    "Check that the aperture makes sense"
   ]
  },
  {
   "cell_type": "code",
   "execution_count": null,
   "metadata": {
    "colab": {
     "base_uri": "https://localhost:8080/",
     "height": 265
    },
    "id": "VveVVWFtnjnU",
    "outputId": "80ab8c8e-d83f-4011-cde3-c5e2fd2ee9f7"
   },
   "outputs": [],
   "source": [
    "vis = eleanor.Visualize(data)\n",
    "fig = vis.aperture_contour()"
   ]
  },
  {
   "cell_type": "markdown",
   "metadata": {
    "id": "LQtCKIoVnjnU"
   },
   "source": [
    "Look at the eleanor light curves, see if they match ours"
   ]
  },
  {
   "cell_type": "code",
   "execution_count": null,
   "metadata": {
    "colab": {
     "base_uri": "https://localhost:8080/",
     "height": 328
    },
    "id": "iNNnGgi0njnU",
    "outputId": "c47574de-c178-4131-fef8-36036251e7b6"
   },
   "outputs": [],
   "source": [
    "plt.figure(figsize=(15,5))\n",
    "\n",
    "q = data.quality == 0\n",
    "\n",
    "plt.plot(data.time[q], data.raw_flux[q]/np.nanmedian(data.raw_flux[q])+0.06, label=\"raw\")\n",
    "plt.plot(data.time[q], data.corr_flux[q]/np.nanmedian(data.corr_flux[q]) + 0.03, label=\"corr\")\n",
    "plt.plot(data.time[q], data.pca_flux[q]/np.nanmedian(data.pca_flux[q]), label=\"PCA\")\n",
    "plt.plot(data.time[q], data.psf_flux[q]/np.nanmedian(data.psf_flux[q]) - 0.02, label=\"PSF\")\n",
    "plt.ylabel('Normalized Flux')\n",
    "plt.xlabel('Time [BJD - 2457000]')\n",
    "plt.legend()"
   ]
  },
  {
   "cell_type": "markdown",
   "metadata": {
    "id": "TKxYu2O-njnU"
   },
   "source": [
    "Let's check if the background is strongly related to the behaviors we're seeing"
   ]
  },
  {
   "cell_type": "code",
   "execution_count": null,
   "metadata": {
    "colab": {
     "base_uri": "https://localhost:8080/",
     "height": 308
    },
    "id": "LEeUQURZnjnV",
    "outputId": "723adac0-62fc-450c-a859-c5ec0a7035e3"
   },
   "outputs": [],
   "source": [
    "plt.figure(figsize=(15,5))\n",
    "\n",
    "plt.plot(data.time[q], data.flux_bkg[q], 'k', label='1D postcard', linewidth=3)\n",
    "plt.plot(data.time[q], data.tpf_flux_bkg[q], 'r--', label='1D TPF', linewidth=2)\n",
    "plt.ylabel('Normalized Flux')\n",
    "plt.xlabel('Time [BJD - 2457000]')\n",
    "plt.legend();"
   ]
  },
  {
   "cell_type": "code",
   "execution_count": null,
   "metadata": {
    "id": "kp1P6Fb-uw-u"
   },
   "outputs": [],
   "source": []
  },
  {
   "cell_type": "markdown",
   "metadata": {},
   "source": [
    "## TESS mission and other public light curve sources"
   ]
  },
  {
   "cell_type": "markdown",
   "metadata": {},
   "source": [
    "Use lightkurve to check what other ready-made light curves exist and plot them."
   ]
  },
  {
   "cell_type": "code",
   "execution_count": null,
   "metadata": {},
   "outputs": [],
   "source": [
    "i=0\n",
    "while i<10:\n",
    "    try:\n",
    "        print('trying')\n",
    "        lcfsearch = lightkurve.search_lightcurve(f'TIC {tic}',sector=sector)\n",
    "        if (len(lcfsearch) > 0):\n",
    "            exptimes = lcfsearch.exptime.value\n",
    "            exptimes = [str(int(t)) for t in exptimes/60]\n",
    "            lcf = lcfsearch.download_all()\n",
    "            for i in np.arange(len(lcf)):\n",
    "                plt.figure(figsize=(15,5))\n",
    "                plt.plot(lcf[i].time.value,lcf[i].flux.value)\n",
    "                plt.title(lcf[i].author + ' ' + exptimes[i]+'min cadence',fontsize=16)\n",
    "                plt.ylabel('Normalized Flux',fontsize=16)\n",
    "                plt.xlabel('Time [BJD - 2457000]',fontsize=16)\n",
    "        break\n",
    "    except Exception:\n",
    "        print(f'error: {Exception}')\n",
    "        i+=1"
   ]
  },
  {
   "cell_type": "markdown",
   "metadata": {
    "id": "SxWl39g-nkqL"
   },
   "source": [
    "# It's still weird!"
   ]
  },
  {
   "cell_type": "markdown",
   "metadata": {
    "id": "jVMwlMc6m2qV"
   },
   "source": [
    "### Check for contamination"
   ]
  },
  {
   "cell_type": "code",
   "execution_count": null,
   "metadata": {
    "colab": {
     "base_uri": "https://localhost:8080/",
     "height": 641
    },
    "id": "LGy-D2sOm2qV",
    "outputId": "0568f09b-1313-4388-c268-6d0f8298a55d"
   },
   "outputs": [],
   "source": [
    "tpf.plot_pixels(corrector_func=lambda x: x.remove_nans().flatten().remove_outliers(), show_flux=True, aperture_mask=custom_mask);\n"
   ]
  },
  {
   "cell_type": "markdown",
   "metadata": {
    "id": "X6hS_zZU4xm5"
   },
   "source": [
    "If the behavior is still present, check to see if there's anything funky in the background of the TPF, like a rolling signal, or some transient that coincides with the target that could mess up a simple background subtraction\n",
    "\n",
    "Let's watch a video of the pixels and see if anything pops out immediately (like some really bad background, a saturated source dominating the flux, cosmic rays or other nonsense)."
   ]
  },
  {
   "cell_type": "code",
   "execution_count": null,
   "metadata": {
    "colab": {
     "base_uri": "https://localhost:8080/",
     "height": 517
    },
    "id": "-30uYOBt1EXs",
    "outputId": "5618147e-c17f-462f-9e53-99ad378846b5"
   },
   "outputs": [],
   "source": [
    "tpf.animate()"
   ]
  },
  {
   "cell_type": "markdown",
   "metadata": {
    "id": "4NKej1Ye_-op"
   },
   "source": [
    "# Is it periodic? Phase fold that"
   ]
  },
  {
   "cell_type": "markdown",
   "metadata": {
    "id": "0UUc8jUWm2qW"
   },
   "source": [
    "Choose which light curve you'd like to work with from the workflows above, and define it as `working_lc`"
   ]
  },
  {
   "cell_type": "code",
   "execution_count": null,
   "metadata": {
    "id": "gdLw2nUym2qW"
   },
   "outputs": [],
   "source": [
    "working_lc = median_subtracted_lc.flatten()"
   ]
  },
  {
   "cell_type": "code",
   "execution_count": null,
   "metadata": {
    "colab": {
     "base_uri": "https://localhost:8080/",
     "height": 330
    },
    "id": "kN_ah7pKn5f9",
    "outputId": "79343559-c269-46da-bc5d-0b680c5f91a8"
   },
   "outputs": [],
   "source": [
    "pg = working_lc.normalize(unit='ppm').to_periodogram()\n",
    "pg.plot(scale='linear');"
   ]
  },
  {
   "cell_type": "code",
   "execution_count": null,
   "metadata": {
    "colab": {
     "base_uri": "https://localhost:8080/",
     "height": 37
    },
    "id": "nsQieOa1m2qW",
    "outputId": "47c63bba-7d5c-4aa7-9222-491acdc624c9"
   },
   "outputs": [],
   "source": [
    "\n",
    "period = pg.period_at_max_power\n",
    "period"
   ]
  },
  {
   "cell_type": "code",
   "execution_count": null,
   "metadata": {
    "id": "jZMI8UBCm2qX"
   },
   "outputs": [],
   "source": [
    "from ipywidgets import FloatSlider, interact"
   ]
  },
  {
   "cell_type": "code",
   "execution_count": null,
   "metadata": {
    "colab": {
     "base_uri": "https://localhost:8080/",
     "height": 378,
     "referenced_widgets": [
      "e09c3ce1e8274057b491795b9c93dcea",
      "0060af8e69e94554a88dd3d8161a7df6",
      "0e770c7c08614f81bfe19c19e3863141",
      "ff8048c0d0d746d4af53ffe058907607",
      "8e708f398a9743139ff1ebcda64bddb7",
      "c2a57f64c507417bb6ab75aae38c8b97",
      "efd56515bb09466da7dd5e9c63e214e4"
     ]
    },
    "id": "XClmupxUm2qX",
    "outputId": "4a87020c-0a08-4190-b062-0541c81f666b"
   },
   "outputs": [],
   "source": [
    "def fold_lc(period):\n",
    "    working_lc.fold(period).scatter(label=f'Period = {period:.3f} d');\n",
    "    return\n",
    "interact(fold_lc, period=FloatSlider(min=0.01, max=15.0, value=period.value, step=.001))"
   ]
  },
  {
   "cell_type": "code",
   "execution_count": null,
   "metadata": {
    "colab": {
     "base_uri": "https://localhost:8080/"
    },
    "id": "Wzk45XNLm2qX",
    "outputId": "b96113ad-d65d-4474-dfef-7cf6083a8fc7"
   },
   "outputs": [],
   "source": [
    "from PhaseFold import phasefold"
   ]
  },
  {
   "cell_type": "code",
   "execution_count": null,
   "metadata": {},
   "outputs": [],
   "source": [
    "phasefold.fold(working_lc, sect=sector)"
   ]
  },
  {
   "cell_type": "code",
   "execution_count": null,
   "metadata": {},
   "outputs": [],
   "source": []
  }
 ],
 "metadata": {
  "colab": {
   "collapsed_sections": [
    "o7M8i7mbnNhr",
    "RGq5vwl_p_p9"
   ],
   "name": "anomaly_followup.ipynb",
   "provenance": []
  },
  "kernelspec": {
   "display_name": "Python 3",
   "language": "python",
   "name": "python3"
  },
  "language_info": {
   "codemirror_mode": {
    "name": "ipython",
    "version": 3
   },
   "file_extension": ".py",
   "mimetype": "text/x-python",
   "name": "python",
   "nbconvert_exporter": "python",
   "pygments_lexer": "ipython3",
   "version": "3.6.10"
  },
  "widgets": {
   "application/vnd.jupyter.widget-state+json": {
    "0060af8e69e94554a88dd3d8161a7df6": {
     "model_module": "@jupyter-widgets/controls",
     "model_module_version": "1.5.0",
     "model_name": "FloatSliderModel",
     "state": {
      "_dom_classes": [],
      "_model_module": "@jupyter-widgets/controls",
      "_model_module_version": "1.5.0",
      "_model_name": "FloatSliderModel",
      "_view_count": null,
      "_view_module": "@jupyter-widgets/controls",
      "_view_module_version": "1.5.0",
      "_view_name": "FloatSliderView",
      "continuous_update": true,
      "description": "period",
      "description_tooltip": null,
      "disabled": false,
      "layout": "IPY_MODEL_8e708f398a9743139ff1ebcda64bddb7",
      "max": 15,
      "min": 0.01,
      "orientation": "horizontal",
      "readout": true,
      "readout_format": ".2f",
      "step": 0.01,
      "style": "IPY_MODEL_c2a57f64c507417bb6ab75aae38c8b97",
      "value": 5.06
     }
    },
    "0e770c7c08614f81bfe19c19e3863141": {
     "model_module": "@jupyter-widgets/output",
     "model_module_version": "1.0.0",
     "model_name": "OutputModel",
     "state": {
      "_dom_classes": [],
      "_model_module": "@jupyter-widgets/output",
      "_model_module_version": "1.0.0",
      "_model_name": "OutputModel",
      "_view_count": null,
      "_view_module": "@jupyter-widgets/output",
      "_view_module_version": "1.0.0",
      "_view_name": "OutputView",
      "layout": "IPY_MODEL_efd56515bb09466da7dd5e9c63e214e4",
      "msg_id": "",
      "outputs": [
       {
        "data": {
         "image/png": "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\n",
         "text/plain": "<Figure size 848.5x400 with 1 Axes>"
        },
        "metadata": {},
        "output_type": "display_data"
       }
      ]
     }
    },
    "8e708f398a9743139ff1ebcda64bddb7": {
     "model_module": "@jupyter-widgets/base",
     "model_module_version": "1.2.0",
     "model_name": "LayoutModel",
     "state": {
      "_model_module": "@jupyter-widgets/base",
      "_model_module_version": "1.2.0",
      "_model_name": "LayoutModel",
      "_view_count": null,
      "_view_module": "@jupyter-widgets/base",
      "_view_module_version": "1.2.0",
      "_view_name": "LayoutView",
      "align_content": null,
      "align_items": null,
      "align_self": null,
      "border": null,
      "bottom": null,
      "display": null,
      "flex": null,
      "flex_flow": null,
      "grid_area": null,
      "grid_auto_columns": null,
      "grid_auto_flow": null,
      "grid_auto_rows": null,
      "grid_column": null,
      "grid_gap": null,
      "grid_row": null,
      "grid_template_areas": null,
      "grid_template_columns": null,
      "grid_template_rows": null,
      "height": null,
      "justify_content": null,
      "justify_items": null,
      "left": null,
      "margin": null,
      "max_height": null,
      "max_width": null,
      "min_height": null,
      "min_width": null,
      "object_fit": null,
      "object_position": null,
      "order": null,
      "overflow": null,
      "overflow_x": null,
      "overflow_y": null,
      "padding": null,
      "right": null,
      "top": null,
      "visibility": null,
      "width": null
     }
    },
    "c2a57f64c507417bb6ab75aae38c8b97": {
     "model_module": "@jupyter-widgets/controls",
     "model_module_version": "1.5.0",
     "model_name": "SliderStyleModel",
     "state": {
      "_model_module": "@jupyter-widgets/controls",
      "_model_module_version": "1.5.0",
      "_model_name": "SliderStyleModel",
      "_view_count": null,
      "_view_module": "@jupyter-widgets/base",
      "_view_module_version": "1.2.0",
      "_view_name": "StyleView",
      "description_width": "",
      "handle_color": null
     }
    },
    "e09c3ce1e8274057b491795b9c93dcea": {
     "model_module": "@jupyter-widgets/controls",
     "model_module_version": "1.5.0",
     "model_name": "VBoxModel",
     "state": {
      "_dom_classes": [
       "widget-interact"
      ],
      "_model_module": "@jupyter-widgets/controls",
      "_model_module_version": "1.5.0",
      "_model_name": "VBoxModel",
      "_view_count": null,
      "_view_module": "@jupyter-widgets/controls",
      "_view_module_version": "1.5.0",
      "_view_name": "VBoxView",
      "box_style": "",
      "children": [
       "IPY_MODEL_0060af8e69e94554a88dd3d8161a7df6",
       "IPY_MODEL_0e770c7c08614f81bfe19c19e3863141"
      ],
      "layout": "IPY_MODEL_ff8048c0d0d746d4af53ffe058907607"
     }
    },
    "efd56515bb09466da7dd5e9c63e214e4": {
     "model_module": "@jupyter-widgets/base",
     "model_module_version": "1.2.0",
     "model_name": "LayoutModel",
     "state": {
      "_model_module": "@jupyter-widgets/base",
      "_model_module_version": "1.2.0",
      "_model_name": "LayoutModel",
      "_view_count": null,
      "_view_module": "@jupyter-widgets/base",
      "_view_module_version": "1.2.0",
      "_view_name": "LayoutView",
      "align_content": null,
      "align_items": null,
      "align_self": null,
      "border": null,
      "bottom": null,
      "display": null,
      "flex": null,
      "flex_flow": null,
      "grid_area": null,
      "grid_auto_columns": null,
      "grid_auto_flow": null,
      "grid_auto_rows": null,
      "grid_column": null,
      "grid_gap": null,
      "grid_row": null,
      "grid_template_areas": null,
      "grid_template_columns": null,
      "grid_template_rows": null,
      "height": null,
      "justify_content": null,
      "justify_items": null,
      "left": null,
      "margin": null,
      "max_height": null,
      "max_width": null,
      "min_height": null,
      "min_width": null,
      "object_fit": null,
      "object_position": null,
      "order": null,
      "overflow": null,
      "overflow_x": null,
      "overflow_y": null,
      "padding": null,
      "right": null,
      "top": null,
      "visibility": null,
      "width": null
     }
    },
    "ff8048c0d0d746d4af53ffe058907607": {
     "model_module": "@jupyter-widgets/base",
     "model_module_version": "1.2.0",
     "model_name": "LayoutModel",
     "state": {
      "_model_module": "@jupyter-widgets/base",
      "_model_module_version": "1.2.0",
      "_model_name": "LayoutModel",
      "_view_count": null,
      "_view_module": "@jupyter-widgets/base",
      "_view_module_version": "1.2.0",
      "_view_name": "LayoutView",
      "align_content": null,
      "align_items": null,
      "align_self": null,
      "border": null,
      "bottom": null,
      "display": null,
      "flex": null,
      "flex_flow": null,
      "grid_area": null,
      "grid_auto_columns": null,
      "grid_auto_flow": null,
      "grid_auto_rows": null,
      "grid_column": null,
      "grid_gap": null,
      "grid_row": null,
      "grid_template_areas": null,
      "grid_template_columns": null,
      "grid_template_rows": null,
      "height": null,
      "justify_content": null,
      "justify_items": null,
      "left": null,
      "margin": null,
      "max_height": null,
      "max_width": null,
      "min_height": null,
      "min_width": null,
      "object_fit": null,
      "object_position": null,
      "order": null,
      "overflow": null,
      "overflow_x": null,
      "overflow_y": null,
      "padding": null,
      "right": null,
      "top": null,
      "visibility": null,
      "width": null
     }
    }
   }
  }
 },
 "nbformat": 4,
 "nbformat_minor": 1
}
